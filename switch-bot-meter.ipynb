{
 "cells": [
  {
   "cell_type": "code",
   "execution_count": 2,
   "id": "b4ab3c58-aed0-4cb7-9f31-425a6e62e2a9",
   "metadata": {},
   "outputs": [],
   "source": [
    "from google.cloud.bigquery import magics"
   ]
  },
  {
   "cell_type": "code",
   "execution_count": 10,
   "id": "23f656d5-3100-41cc-bab4-490127a24ab2",
   "metadata": {},
   "outputs": [
    {
     "name": "stderr",
     "output_type": "stream",
     "text": [
      "Query complete after 0.00s: 100%|██████████| 1/1 [00:00<00:00, 552.46query/s]                          \n",
      "Downloading: 100%|██████████| 478/478 [00:01<00:00, 241.87rows/s]\n"
     ]
    }
   ],
   "source": [
    "%%bigquery meter_data\n",
    "SELECT * FROM `switch-bot-320517.import.meter` WHERE dt = \"2022-04-28\""
   ]
  },
  {
   "cell_type": "code",
   "execution_count": 11,
   "id": "7177115d-ab17-4e62-88c9-9a0ce8669dda",
   "metadata": {},
   "outputs": [
    {
     "data": {
      "text/html": [
       "<div>\n",
       "<style scoped>\n",
       "    .dataframe tbody tr th:only-of-type {\n",
       "        vertical-align: middle;\n",
       "    }\n",
       "\n",
       "    .dataframe tbody tr th {\n",
       "        vertical-align: top;\n",
       "    }\n",
       "\n",
       "    .dataframe thead th {\n",
       "        text-align: right;\n",
       "    }\n",
       "</style>\n",
       "<table border=\"1\" class=\"dataframe\">\n",
       "  <thead>\n",
       "    <tr style=\"text-align: right;\">\n",
       "      <th></th>\n",
       "      <th>exec_time</th>\n",
       "      <th>device</th>\n",
       "      <th>temperature</th>\n",
       "      <th>humidity</th>\n",
       "      <th>dt</th>\n",
       "    </tr>\n",
       "  </thead>\n",
       "  <tbody>\n",
       "    <tr>\n",
       "      <th>0</th>\n",
       "      <td>2022-04-28 16:43:06+00:00</td>\n",
       "      <td>north_room</td>\n",
       "      <td>24.3</td>\n",
       "      <td>59</td>\n",
       "      <td>2022-04-28</td>\n",
       "    </tr>\n",
       "    <tr>\n",
       "      <th>1</th>\n",
       "      <td>2022-04-28 08:06:06+00:00</td>\n",
       "      <td>north_room</td>\n",
       "      <td>22.2</td>\n",
       "      <td>60</td>\n",
       "      <td>2022-04-28</td>\n",
       "    </tr>\n",
       "    <tr>\n",
       "      <th>2</th>\n",
       "      <td>2022-04-28 08:18:06+00:00</td>\n",
       "      <td>north_room</td>\n",
       "      <td>22.2</td>\n",
       "      <td>60</td>\n",
       "      <td>2022-04-28</td>\n",
       "    </tr>\n",
       "    <tr>\n",
       "      <th>3</th>\n",
       "      <td>2022-04-28 08:36:06+00:00</td>\n",
       "      <td>north_room</td>\n",
       "      <td>22.0</td>\n",
       "      <td>60</td>\n",
       "      <td>2022-04-28</td>\n",
       "    </tr>\n",
       "    <tr>\n",
       "      <th>4</th>\n",
       "      <td>2022-04-28 08:42:06+00:00</td>\n",
       "      <td>north_room</td>\n",
       "      <td>22.0</td>\n",
       "      <td>60</td>\n",
       "      <td>2022-04-28</td>\n",
       "    </tr>\n",
       "    <tr>\n",
       "      <th>...</th>\n",
       "      <td>...</td>\n",
       "      <td>...</td>\n",
       "      <td>...</td>\n",
       "      <td>...</td>\n",
       "      <td>...</td>\n",
       "    </tr>\n",
       "    <tr>\n",
       "      <th>473</th>\n",
       "      <td>2022-04-28 08:24:06+00:00</td>\n",
       "      <td>south_room</td>\n",
       "      <td>21.8</td>\n",
       "      <td>77</td>\n",
       "      <td>2022-04-28</td>\n",
       "    </tr>\n",
       "    <tr>\n",
       "      <th>474</th>\n",
       "      <td>2022-04-28 08:30:06+00:00</td>\n",
       "      <td>south_room</td>\n",
       "      <td>21.8</td>\n",
       "      <td>77</td>\n",
       "      <td>2022-04-28</td>\n",
       "    </tr>\n",
       "    <tr>\n",
       "      <th>475</th>\n",
       "      <td>2022-04-28 08:36:06+00:00</td>\n",
       "      <td>south_room</td>\n",
       "      <td>21.7</td>\n",
       "      <td>77</td>\n",
       "      <td>2022-04-28</td>\n",
       "    </tr>\n",
       "    <tr>\n",
       "      <th>476</th>\n",
       "      <td>2022-04-28 04:43:06+00:00</td>\n",
       "      <td>south_room</td>\n",
       "      <td>22.6</td>\n",
       "      <td>78</td>\n",
       "      <td>2022-04-28</td>\n",
       "    </tr>\n",
       "    <tr>\n",
       "      <th>477</th>\n",
       "      <td>2022-04-28 05:42:06+00:00</td>\n",
       "      <td>south_room</td>\n",
       "      <td>22.4</td>\n",
       "      <td>78</td>\n",
       "      <td>2022-04-28</td>\n",
       "    </tr>\n",
       "  </tbody>\n",
       "</table>\n",
       "<p>478 rows × 5 columns</p>\n",
       "</div>"
      ],
      "text/plain": [
       "                    exec_time      device  temperature  humidity          dt\n",
       "0   2022-04-28 16:43:06+00:00  north_room         24.3        59  2022-04-28\n",
       "1   2022-04-28 08:06:06+00:00  north_room         22.2        60  2022-04-28\n",
       "2   2022-04-28 08:18:06+00:00  north_room         22.2        60  2022-04-28\n",
       "3   2022-04-28 08:36:06+00:00  north_room         22.0        60  2022-04-28\n",
       "4   2022-04-28 08:42:06+00:00  north_room         22.0        60  2022-04-28\n",
       "..                        ...         ...          ...       ...         ...\n",
       "473 2022-04-28 08:24:06+00:00  south_room         21.8        77  2022-04-28\n",
       "474 2022-04-28 08:30:06+00:00  south_room         21.8        77  2022-04-28\n",
       "475 2022-04-28 08:36:06+00:00  south_room         21.7        77  2022-04-28\n",
       "476 2022-04-28 04:43:06+00:00  south_room         22.6        78  2022-04-28\n",
       "477 2022-04-28 05:42:06+00:00  south_room         22.4        78  2022-04-28\n",
       "\n",
       "[478 rows x 5 columns]"
      ]
     },
     "execution_count": 11,
     "metadata": {},
     "output_type": "execute_result"
    }
   ],
   "source": [
    "meter_data"
   ]
  },
  {
   "cell_type": "code",
   "execution_count": 12,
   "id": "0cfeb9d1-bf69-43cf-857f-e9a315ea9713",
   "metadata": {},
   "outputs": [
    {
     "data": {
      "image/png": "[encoded data removed]",
      "text/plain": [
       "<Figure size 432x288 with 1 Axes>"
      ]
     },
     "metadata": {
      "needs_background": "light"
     },
     "output_type": "display_data"
    },
    {
     "data": {
      "image/png": "[encoded data removed]",
      "text/plain": [
       "<Figure size 432x288 with 1 Axes>"
      ]
     },
     "metadata": {
      "needs_background": "light"
     },
     "output_type": "display_data"
    }
   ],
   "source": [
    "%matplotlib inline\n",
    "temperature = meter_data[['exec_time','device','temperature']]\n",
    "south_temp = temperature.loc[temperature['device'] == 'south_room'].plot.line(x='exec_time').set_title('south_temperature')\n",
    "north_temp = temperature.loc[temperature['device'] == 'north_room'].plot.line(x='exec_time').set_title('north_temperature')"
   ]
  },
  {
   "cell_type": "code",
   "execution_count": null,
   "id": "5956dc1a-e084-4d3c-a499-aebfe94076d1",
   "metadata": {},
   "outputs": [],
   "source": []
  }
 ],
 "metadata": {
  "environment": {
   "kernel": "python3",
   "name": "tf2-gpu.2-8.m91",
   "type": "gcloud",
   "uri": "gcr.io/deeplearning-platform-release/tf2-gpu.2-8:m91"
  },
  "kernelspec": {
   "display_name": "Python 3",
   "language": "python",
   "name": "python3"
  },
  "language_info": {
   "codemirror_mode": {
    "name": "ipython",
    "version": 3
   },
   "file_extension": ".py",
   "mimetype": "text/x-python",
   "name": "python",
   "nbconvert_exporter": "python",
   "pygments_lexer": "ipython3",
   "version": "3.7.12"
  }
 },
 "nbformat": 4,
 "nbformat_minor": 5
}
